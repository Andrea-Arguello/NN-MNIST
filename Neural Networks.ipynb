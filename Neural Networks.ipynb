{
 "cells": [
  {
   "cell_type": "markdown",
   "metadata": {},
   "source": [
    "Universidad del Valle de Guatemala\n",
    "<br>\n",
    "Inteligencia Artificial\n",
    "<br>\n",
    "Andrea Argüello 17801\n",
    "<br>\n",
    "<center><b><font size=\"6\">Laboratorio 2: Redes Neuronales</font></b></center>"
   ]
  },
  {
   "cell_type": "code",
   "execution_count": 1,
   "metadata": {},
   "outputs": [],
   "source": [
    "import numpy as np\n",
    "import pandas as pd\n",
    "import neural_networks as nn\n",
    "from scipy.optimize import minimize"
   ]
  },
  {
   "cell_type": "code",
   "execution_count": 2,
   "metadata": {},
   "outputs": [],
   "source": [
    "NORMALIZE = 1000.0\n",
    "#df = pd.read_csv(r'./datasets/csv/fashion-mnist_train.csv')\n",
    "test = pd.read_csv(r'./datasets/csv/fashion-mnist_test.csv')\n",
    "\n",
    "#shuffled = df.sample(frac=1)\n",
    "\n",
    "#train, validate = np.split(shuffled, [50000])\n",
    "#train.to_csv(path_or_buf='./datasets/csv/fashion-mnist_train_50k.csv',index=False)\n",
    "#validate.to_csv(path_or_buf='./datasets/csv/fashion-mnist_validate.csv',index=False)\n",
    "\n",
    "train = pd.read_csv(r'./datasets/csv/fashion-mnist_train_50k.csv')\n",
    "validate = pd.read_csv(r'./datasets/csv/fashion-mnist_validate.csv')\n",
    "\n",
    "train_X = np.asarray(train[train.columns[~train.columns.isin(['label'])]]) / NORMALIZE\n",
    "train_y = np.asarray(train[['label']])\n",
    "validate_X = np.asarray(validate[validate.columns[~validate.columns.isin(['label'])]]) / NORMALIZE\n",
    "validate_y = (validate[['label']])\n",
    "test_X = np.asarray(test[test.columns[~test.columns.isin(['label'])]]) / NORMALIZE\n",
    "test_y = np.asarray(test[['label']])"
   ]
  },
  {
   "cell_type": "code",
   "execution_count": 3,
   "metadata": {},
   "outputs": [],
   "source": [
    "# A setear variables\n",
    "NETWORK_ARCH = np.array([\n",
    "    784,\n",
    "    90, # ~(784*10)**0.5\n",
    "    10\n",
    "    ])\n",
    "theta_shapes = np.hstack((\n",
    "    NETWORK_ARCH[1:].reshape(len(NETWORK_ARCH)-1,1),\n",
    "    (NETWORK_ARCH[:-1]+1).reshape(len(NETWORK_ARCH)-1,1)\n",
    "))"
   ]
  },
  {
   "cell_type": "code",
   "execution_count": 4,
   "metadata": {},
   "outputs": [],
   "source": [
    "# Otras variables\n",
    "#flat_thetas = nn.flatten_list_of_arrays([\n",
    "#    np.random.rand(*theta_shape) for theta_shape in theta_shapes\n",
    "#])"
   ]
  },
  {
   "cell_type": "code",
   "execution_count": 5,
   "metadata": {},
   "outputs": [],
   "source": [
    "# np.save('flat_thetas', flat_thetas)"
   ]
  },
  {
   "cell_type": "code",
   "execution_count": 6,
   "metadata": {},
   "outputs": [],
   "source": [
    "flat_thetas = np.load('flat_thetas.npy')"
   ]
  },
  {
   "cell_type": "markdown",
   "metadata": {},
   "source": [
    "# Optimización con scipy.optimize.minimize"
   ]
  },
  {
   "cell_type": "code",
   "execution_count": 7,
   "metadata": {},
   "outputs": [
    {
     "name": "stderr",
     "output_type": "stream",
     "text": [
      "/home/ranchobojon/Documents/SEMESTRE_1_2020/AI/NeuralNetworks/neural_networks.py:43: RuntimeWarning: divide by zero encountered in log\n",
      "  return -(Y * np.log(a[-1]) + (1 - Y) * np.log(1 - a[-1])).sum() / len(X)\n",
      "/home/ranchobojon/Documents/SEMESTRE_1_2020/AI/NeuralNetworks/neural_networks.py:43: RuntimeWarning: invalid value encountered in multiply\n",
      "  return -(Y * np.log(a[-1]) + (1 - Y) * np.log(1 - a[-1])).sum() / len(X)\n",
      "/home/ranchobojon/Documents/SEMESTRE_1_2020/AI/NeuralNetworks/.venv/lib/python3.6/site-packages/numpy/core/_methods.py:38: RuntimeWarning: invalid value encountered in reduce\n",
      "  return umr_sum(a, axis, dtype, out, keepdims, initial, where)\n"
     ]
    }
   ],
   "source": [
    "result = minimize(\n",
    "    fun=nn.cost_function,\n",
    "    x0=flat_thetas,\n",
    "    args=(theta_shapes,train_X,train_y),\n",
    "    method='L-BFGS-B',\n",
    "    jac=nn.back_propagation,\n",
    "    options={'disp':True, 'maxiter':3000}\n",
    ")"
   ]
  },
  {
   "cell_type": "code",
   "execution_count": 8,
   "metadata": {},
   "outputs": [
    {
     "name": "stdout",
     "output_type": "stream",
     "text": [
      "      fun: nan\n",
      " hess_inv: <71560x71560 LbfgsInvHessProduct with dtype=float64>\n",
      "      jac: array([-6.90574595e-04, -6.51877179e-12, -5.97417539e-12, ...,\n",
      "       -3.50509011e+00, -3.50503047e+00, -3.50506232e+00])\n",
      "  message: b'ABNORMAL_TERMINATION_IN_LNSRCH'\n",
      "     nfev: 21\n",
      "      nit: 0\n",
      "   status: 2\n",
      "  success: False\n",
      "        x: array([0.96064244, 0.30868447, 0.53527957, ..., 0.0950575 , 0.06972063,\n",
      "       0.44905068])\n"
     ]
    }
   ],
   "source": [
    "print(result)"
   ]
  }
 ],
 "metadata": {
  "kernelspec": {
   "display_name": "Python 3",
   "language": "python",
   "name": "python3"
  },
  "language_info": {
   "codemirror_mode": {
    "name": "ipython",
    "version": 3
   },
   "file_extension": ".py",
   "mimetype": "text/x-python",
   "name": "python",
   "nbconvert_exporter": "python",
   "pygments_lexer": "ipython3",
   "version": "3.6.9"
  }
 },
 "nbformat": 4,
 "nbformat_minor": 4
}
